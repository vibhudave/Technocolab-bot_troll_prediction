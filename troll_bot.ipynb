{
 "cells": [
  {
   "cell_type": "code",
   "execution_count": 1,
   "metadata": {},
   "outputs": [],
   "source": [
    "import numpy as np\n",
    "import pandas as pd"
   ]
  },
  {
   "cell_type": "code",
   "execution_count": 2,
   "metadata": {},
   "outputs": [],
   "source": [
    "tweet=pd.read_csv(\"D:\\\\Technocolabs\\\\training-dump.csv\")"
   ]
  },
  {
   "cell_type": "code",
   "execution_count": 3,
   "metadata": {},
   "outputs": [
    {
     "data": {
      "text/html": [
       "<div>\n",
       "<style scoped>\n",
       "    .dataframe tbody tr th:only-of-type {\n",
       "        vertical-align: middle;\n",
       "    }\n",
       "\n",
       "    .dataframe tbody tr th {\n",
       "        vertical-align: top;\n",
       "    }\n",
       "\n",
       "    .dataframe thead th {\n",
       "        text-align: right;\n",
       "    }\n",
       "</style>\n",
       "<table border=\"1\" class=\"dataframe\">\n",
       "  <thead>\n",
       "    <tr style=\"text-align: right;\">\n",
       "      <th></th>\n",
       "      <th>banned_by</th>\n",
       "      <th>no_follow</th>\n",
       "      <th>link_id</th>\n",
       "      <th>gilded</th>\n",
       "      <th>author</th>\n",
       "      <th>author_verified</th>\n",
       "      <th>author_comment_karma</th>\n",
       "      <th>author_link_karma</th>\n",
       "      <th>num_comments</th>\n",
       "      <th>created_utc</th>\n",
       "      <th>...</th>\n",
       "      <th>body</th>\n",
       "      <th>downs</th>\n",
       "      <th>is_submitter</th>\n",
       "      <th>num_reports</th>\n",
       "      <th>controversiality</th>\n",
       "      <th>quarantine</th>\n",
       "      <th>ups</th>\n",
       "      <th>is_bot</th>\n",
       "      <th>is_troll</th>\n",
       "      <th>recent_comments</th>\n",
       "    </tr>\n",
       "  </thead>\n",
       "  <tbody>\n",
       "    <tr>\n",
       "      <th>0</th>\n",
       "      <td>NaN</td>\n",
       "      <td>True</td>\n",
       "      <td>t3_2l5szg</td>\n",
       "      <td>0</td>\n",
       "      <td>ADHDbot</td>\n",
       "      <td>False</td>\n",
       "      <td>-6</td>\n",
       "      <td>1</td>\n",
       "      <td>1.0</td>\n",
       "      <td>1415026958</td>\n",
       "      <td>...</td>\n",
       "      <td>As per the rules in the side bar, yes or no qu...</td>\n",
       "      <td>0</td>\n",
       "      <td>False</td>\n",
       "      <td>NaN</td>\n",
       "      <td>0</td>\n",
       "      <td>False</td>\n",
       "      <td>1</td>\n",
       "      <td>True</td>\n",
       "      <td>False</td>\n",
       "      <td>[]</td>\n",
       "    </tr>\n",
       "    <tr>\n",
       "      <th>1</th>\n",
       "      <td>NaN</td>\n",
       "      <td>True</td>\n",
       "      <td>t3_2l61gs</td>\n",
       "      <td>0</td>\n",
       "      <td>ADHDbot</td>\n",
       "      <td>False</td>\n",
       "      <td>-6</td>\n",
       "      <td>1</td>\n",
       "      <td>1.0</td>\n",
       "      <td>1415031687</td>\n",
       "      <td>...</td>\n",
       "      <td>Meme and image posts are not allowed on this s...</td>\n",
       "      <td>0</td>\n",
       "      <td>False</td>\n",
       "      <td>NaN</td>\n",
       "      <td>0</td>\n",
       "      <td>False</td>\n",
       "      <td>1</td>\n",
       "      <td>True</td>\n",
       "      <td>False</td>\n",
       "      <td>[{\"banned_by\":null,\"no_follow\":true,\"link_id\":...</td>\n",
       "    </tr>\n",
       "    <tr>\n",
       "      <th>2</th>\n",
       "      <td>NaN</td>\n",
       "      <td>True</td>\n",
       "      <td>t3_2l7ma8</td>\n",
       "      <td>0</td>\n",
       "      <td>ADHDbot</td>\n",
       "      <td>False</td>\n",
       "      <td>-6</td>\n",
       "      <td>1</td>\n",
       "      <td>1.0</td>\n",
       "      <td>1415060465</td>\n",
       "      <td>...</td>\n",
       "      <td>As per the rules in the side bar, yes or no qu...</td>\n",
       "      <td>0</td>\n",
       "      <td>False</td>\n",
       "      <td>NaN</td>\n",
       "      <td>0</td>\n",
       "      <td>False</td>\n",
       "      <td>1</td>\n",
       "      <td>True</td>\n",
       "      <td>False</td>\n",
       "      <td>[{\"banned_by\":null,\"no_follow\":true,\"link_id\":...</td>\n",
       "    </tr>\n",
       "  </tbody>\n",
       "</table>\n",
       "<p>3 rows × 22 columns</p>\n",
       "</div>"
      ],
      "text/plain": [
       "   banned_by  no_follow    link_id  gilded   author  author_verified  \\\n",
       "0        NaN       True  t3_2l5szg       0  ADHDbot            False   \n",
       "1        NaN       True  t3_2l61gs       0  ADHDbot            False   \n",
       "2        NaN       True  t3_2l7ma8       0  ADHDbot            False   \n",
       "\n",
       "   author_comment_karma  author_link_karma  num_comments  created_utc  ...  \\\n",
       "0                    -6                  1           1.0   1415026958  ...   \n",
       "1                    -6                  1           1.0   1415031687  ...   \n",
       "2                    -6                  1           1.0   1415060465  ...   \n",
       "\n",
       "                                                body  downs is_submitter  \\\n",
       "0  As per the rules in the side bar, yes or no qu...      0        False   \n",
       "1  Meme and image posts are not allowed on this s...      0        False   \n",
       "2  As per the rules in the side bar, yes or no qu...      0        False   \n",
       "\n",
       "   num_reports  controversiality  quarantine  ups  is_bot  is_troll  \\\n",
       "0          NaN                 0       False    1    True     False   \n",
       "1          NaN                 0       False    1    True     False   \n",
       "2          NaN                 0       False    1    True     False   \n",
       "\n",
       "                                     recent_comments  \n",
       "0                                                 []  \n",
       "1  [{\"banned_by\":null,\"no_follow\":true,\"link_id\":...  \n",
       "2  [{\"banned_by\":null,\"no_follow\":true,\"link_id\":...  \n",
       "\n",
       "[3 rows x 22 columns]"
      ]
     },
     "execution_count": 3,
     "metadata": {},
     "output_type": "execute_result"
    }
   ],
   "source": [
    "tweet.head(3)"
   ]
  },
  {
   "cell_type": "code",
   "execution_count": 4,
   "metadata": {},
   "outputs": [
    {
     "data": {
      "text/plain": [
       "Index(['banned_by', 'no_follow', 'link_id', 'gilded', 'author',\n",
       "       'author_verified', 'author_comment_karma', 'author_link_karma',\n",
       "       'num_comments', 'created_utc', 'score', 'over_18', 'body', 'downs',\n",
       "       'is_submitter', 'num_reports', 'controversiality', 'quarantine', 'ups',\n",
       "       'is_bot', 'is_troll', 'recent_comments'],\n",
       "      dtype='object')"
      ]
     },
     "execution_count": 4,
     "metadata": {},
     "output_type": "execute_result"
    }
   ],
   "source": [
    "tweet.columns"
   ]
  },
  {
   "cell_type": "code",
   "execution_count": 5,
   "metadata": {
    "scrolled": false
   },
   "outputs": [
    {
     "name": "stdout",
     "output_type": "stream",
     "text": [
      "<class 'pandas.core.frame.DataFrame'>\n",
      "RangeIndex: 267036 entries, 0 to 267035\n",
      "Data columns (total 22 columns):\n",
      " #   Column                Non-Null Count   Dtype  \n",
      "---  ------                --------------   -----  \n",
      " 0   banned_by             0 non-null       float64\n",
      " 1   no_follow             267036 non-null  bool   \n",
      " 2   link_id               267036 non-null  object \n",
      " 3   gilded                267036 non-null  int64  \n",
      " 4   author                267036 non-null  object \n",
      " 5   author_verified       267036 non-null  bool   \n",
      " 6   author_comment_karma  267036 non-null  int64  \n",
      " 7   author_link_karma     267036 non-null  int64  \n",
      " 8   num_comments          266950 non-null  float64\n",
      " 9   created_utc           267036 non-null  int64  \n",
      " 10  score                 267036 non-null  int64  \n",
      " 11  over_18               267036 non-null  bool   \n",
      " 12  body                  267035 non-null  object \n",
      " 13  downs                 267036 non-null  int64  \n",
      " 14  is_submitter          267036 non-null  bool   \n",
      " 15  num_reports           0 non-null       float64\n",
      " 16  controversiality      267036 non-null  int64  \n",
      " 17  quarantine            267036 non-null  bool   \n",
      " 18  ups                   267036 non-null  int64  \n",
      " 19  is_bot                267036 non-null  bool   \n",
      " 20  is_troll              267036 non-null  bool   \n",
      " 21  recent_comments       267036 non-null  object \n",
      "dtypes: bool(7), float64(3), int64(8), object(4)\n",
      "memory usage: 32.3+ MB\n"
     ]
    }
   ],
   "source": [
    "tweet.info()"
   ]
  },
  {
   "cell_type": "code",
   "execution_count": 6,
   "metadata": {
    "scrolled": false
   },
   "outputs": [],
   "source": [
    "troll_bot=tweet.drop(['banned_by', 'body','downs','quarantine', 'num_reports', 'num_comments', 'score', 'ups', 'controversiality', 'gilded'],axis=1)\n",
    "troll_bot.drop_duplicates(inplace=True)\n",
    "\n",
    "# format columns\n",
    "troll_bot['created_utc'] = pd.to_datetime(troll_bot['created_utc'].values, unit='s')\n",
    "#troll_bot['body'] = troll_bot['body'].str.slice(stop=200).fillna('')\n"
   ]
  },
  {
   "cell_type": "code",
   "execution_count": 7,
   "metadata": {},
   "outputs": [
    {
     "data": {
      "text/html": [
       "<div>\n",
       "<style scoped>\n",
       "    .dataframe tbody tr th:only-of-type {\n",
       "        vertical-align: middle;\n",
       "    }\n",
       "\n",
       "    .dataframe tbody tr th {\n",
       "        vertical-align: top;\n",
       "    }\n",
       "\n",
       "    .dataframe thead th {\n",
       "        text-align: right;\n",
       "    }\n",
       "</style>\n",
       "<table border=\"1\" class=\"dataframe\">\n",
       "  <thead>\n",
       "    <tr style=\"text-align: right;\">\n",
       "      <th></th>\n",
       "      <th>no_follow</th>\n",
       "      <th>link_id</th>\n",
       "      <th>author</th>\n",
       "      <th>author_verified</th>\n",
       "      <th>author_comment_karma</th>\n",
       "      <th>author_link_karma</th>\n",
       "      <th>created_utc</th>\n",
       "      <th>over_18</th>\n",
       "      <th>is_submitter</th>\n",
       "      <th>is_bot</th>\n",
       "      <th>is_troll</th>\n",
       "      <th>recent_comments</th>\n",
       "    </tr>\n",
       "  </thead>\n",
       "  <tbody>\n",
       "    <tr>\n",
       "      <th>0</th>\n",
       "      <td>True</td>\n",
       "      <td>t3_2l5szg</td>\n",
       "      <td>ADHDbot</td>\n",
       "      <td>False</td>\n",
       "      <td>-6</td>\n",
       "      <td>1</td>\n",
       "      <td>2014-11-03 15:02:38</td>\n",
       "      <td>False</td>\n",
       "      <td>False</td>\n",
       "      <td>True</td>\n",
       "      <td>False</td>\n",
       "      <td>[]</td>\n",
       "    </tr>\n",
       "    <tr>\n",
       "      <th>1</th>\n",
       "      <td>True</td>\n",
       "      <td>t3_2l61gs</td>\n",
       "      <td>ADHDbot</td>\n",
       "      <td>False</td>\n",
       "      <td>-6</td>\n",
       "      <td>1</td>\n",
       "      <td>2014-11-03 16:21:27</td>\n",
       "      <td>False</td>\n",
       "      <td>False</td>\n",
       "      <td>True</td>\n",
       "      <td>False</td>\n",
       "      <td>[{\"banned_by\":null,\"no_follow\":true,\"link_id\":...</td>\n",
       "    </tr>\n",
       "    <tr>\n",
       "      <th>2</th>\n",
       "      <td>True</td>\n",
       "      <td>t3_2l7ma8</td>\n",
       "      <td>ADHDbot</td>\n",
       "      <td>False</td>\n",
       "      <td>-6</td>\n",
       "      <td>1</td>\n",
       "      <td>2014-11-04 00:21:05</td>\n",
       "      <td>False</td>\n",
       "      <td>False</td>\n",
       "      <td>True</td>\n",
       "      <td>False</td>\n",
       "      <td>[{\"banned_by\":null,\"no_follow\":true,\"link_id\":...</td>\n",
       "    </tr>\n",
       "    <tr>\n",
       "      <th>3</th>\n",
       "      <td>True</td>\n",
       "      <td>t3_2l7t5h</td>\n",
       "      <td>ADHDbot</td>\n",
       "      <td>False</td>\n",
       "      <td>-6</td>\n",
       "      <td>1</td>\n",
       "      <td>2014-11-04 01:23:18</td>\n",
       "      <td>False</td>\n",
       "      <td>False</td>\n",
       "      <td>True</td>\n",
       "      <td>False</td>\n",
       "      <td>[{\"banned_by\":null,\"no_follow\":true,\"link_id\":...</td>\n",
       "    </tr>\n",
       "    <tr>\n",
       "      <th>4</th>\n",
       "      <td>True</td>\n",
       "      <td>t3_2l900k</td>\n",
       "      <td>ADHDbot</td>\n",
       "      <td>False</td>\n",
       "      <td>-6</td>\n",
       "      <td>1</td>\n",
       "      <td>2014-11-04 10:15:33</td>\n",
       "      <td>False</td>\n",
       "      <td>False</td>\n",
       "      <td>True</td>\n",
       "      <td>False</td>\n",
       "      <td>[{\"banned_by\":null,\"no_follow\":true,\"link_id\":...</td>\n",
       "    </tr>\n",
       "    <tr>\n",
       "      <th>...</th>\n",
       "      <td>...</td>\n",
       "      <td>...</td>\n",
       "      <td>...</td>\n",
       "      <td>...</td>\n",
       "      <td>...</td>\n",
       "      <td>...</td>\n",
       "      <td>...</td>\n",
       "      <td>...</td>\n",
       "      <td>...</td>\n",
       "      <td>...</td>\n",
       "      <td>...</td>\n",
       "      <td>...</td>\n",
       "    </tr>\n",
       "    <tr>\n",
       "      <th>267027</th>\n",
       "      <td>True</td>\n",
       "      <td>t3_52doh1</td>\n",
       "      <td>haiku_robot</td>\n",
       "      <td>True</td>\n",
       "      <td>159092</td>\n",
       "      <td>1</td>\n",
       "      <td>2016-09-12 15:41:06</td>\n",
       "      <td>False</td>\n",
       "      <td>False</td>\n",
       "      <td>True</td>\n",
       "      <td>False</td>\n",
       "      <td>[{\"banned_by\":null,\"no_follow\":true,\"link_id\":...</td>\n",
       "    </tr>\n",
       "    <tr>\n",
       "      <th>267028</th>\n",
       "      <td>False</td>\n",
       "      <td>t3_52drz9</td>\n",
       "      <td>haiku_robot</td>\n",
       "      <td>True</td>\n",
       "      <td>159092</td>\n",
       "      <td>1</td>\n",
       "      <td>2016-09-12 15:41:11</td>\n",
       "      <td>False</td>\n",
       "      <td>False</td>\n",
       "      <td>True</td>\n",
       "      <td>False</td>\n",
       "      <td>[{\"banned_by\":null,\"no_follow\":true,\"link_id\":...</td>\n",
       "    </tr>\n",
       "    <tr>\n",
       "      <th>267029</th>\n",
       "      <td>True</td>\n",
       "      <td>t3_52d5po</td>\n",
       "      <td>haiku_robot</td>\n",
       "      <td>True</td>\n",
       "      <td>159092</td>\n",
       "      <td>1</td>\n",
       "      <td>2016-09-12 15:41:14</td>\n",
       "      <td>False</td>\n",
       "      <td>False</td>\n",
       "      <td>True</td>\n",
       "      <td>False</td>\n",
       "      <td>[{\"banned_by\":null,\"no_follow\":true,\"link_id\":...</td>\n",
       "    </tr>\n",
       "    <tr>\n",
       "      <th>267030</th>\n",
       "      <td>False</td>\n",
       "      <td>t3_52drtm</td>\n",
       "      <td>haiku_robot</td>\n",
       "      <td>True</td>\n",
       "      <td>159092</td>\n",
       "      <td>1</td>\n",
       "      <td>2016-09-12 15:41:17</td>\n",
       "      <td>False</td>\n",
       "      <td>False</td>\n",
       "      <td>True</td>\n",
       "      <td>False</td>\n",
       "      <td>[{\"banned_by\":null,\"no_follow\":true,\"link_id\":...</td>\n",
       "    </tr>\n",
       "    <tr>\n",
       "      <th>267031</th>\n",
       "      <td>True</td>\n",
       "      <td>t3_96p3s7</td>\n",
       "      <td>haiku_robot</td>\n",
       "      <td>True</td>\n",
       "      <td>159092</td>\n",
       "      <td>1</td>\n",
       "      <td>2018-08-13 09:22:37</td>\n",
       "      <td>False</td>\n",
       "      <td>False</td>\n",
       "      <td>True</td>\n",
       "      <td>False</td>\n",
       "      <td>[{\"banned_by\":null,\"no_follow\":false,\"link_id\"...</td>\n",
       "    </tr>\n",
       "  </tbody>\n",
       "</table>\n",
       "<p>227096 rows × 12 columns</p>\n",
       "</div>"
      ],
      "text/plain": [
       "        no_follow    link_id       author  author_verified  \\\n",
       "0            True  t3_2l5szg      ADHDbot            False   \n",
       "1            True  t3_2l61gs      ADHDbot            False   \n",
       "2            True  t3_2l7ma8      ADHDbot            False   \n",
       "3            True  t3_2l7t5h      ADHDbot            False   \n",
       "4            True  t3_2l900k      ADHDbot            False   \n",
       "...           ...        ...          ...              ...   \n",
       "267027       True  t3_52doh1  haiku_robot             True   \n",
       "267028      False  t3_52drz9  haiku_robot             True   \n",
       "267029       True  t3_52d5po  haiku_robot             True   \n",
       "267030      False  t3_52drtm  haiku_robot             True   \n",
       "267031       True  t3_96p3s7  haiku_robot             True   \n",
       "\n",
       "        author_comment_karma  author_link_karma         created_utc  over_18  \\\n",
       "0                         -6                  1 2014-11-03 15:02:38    False   \n",
       "1                         -6                  1 2014-11-03 16:21:27    False   \n",
       "2                         -6                  1 2014-11-04 00:21:05    False   \n",
       "3                         -6                  1 2014-11-04 01:23:18    False   \n",
       "4                         -6                  1 2014-11-04 10:15:33    False   \n",
       "...                      ...                ...                 ...      ...   \n",
       "267027                159092                  1 2016-09-12 15:41:06    False   \n",
       "267028                159092                  1 2016-09-12 15:41:11    False   \n",
       "267029                159092                  1 2016-09-12 15:41:14    False   \n",
       "267030                159092                  1 2016-09-12 15:41:17    False   \n",
       "267031                159092                  1 2018-08-13 09:22:37    False   \n",
       "\n",
       "        is_submitter  is_bot  is_troll  \\\n",
       "0              False    True     False   \n",
       "1              False    True     False   \n",
       "2              False    True     False   \n",
       "3              False    True     False   \n",
       "4              False    True     False   \n",
       "...              ...     ...       ...   \n",
       "267027         False    True     False   \n",
       "267028         False    True     False   \n",
       "267029         False    True     False   \n",
       "267030         False    True     False   \n",
       "267031         False    True     False   \n",
       "\n",
       "                                          recent_comments  \n",
       "0                                                      []  \n",
       "1       [{\"banned_by\":null,\"no_follow\":true,\"link_id\":...  \n",
       "2       [{\"banned_by\":null,\"no_follow\":true,\"link_id\":...  \n",
       "3       [{\"banned_by\":null,\"no_follow\":true,\"link_id\":...  \n",
       "4       [{\"banned_by\":null,\"no_follow\":true,\"link_id\":...  \n",
       "...                                                   ...  \n",
       "267027  [{\"banned_by\":null,\"no_follow\":true,\"link_id\":...  \n",
       "267028  [{\"banned_by\":null,\"no_follow\":true,\"link_id\":...  \n",
       "267029  [{\"banned_by\":null,\"no_follow\":true,\"link_id\":...  \n",
       "267030  [{\"banned_by\":null,\"no_follow\":true,\"link_id\":...  \n",
       "267031  [{\"banned_by\":null,\"no_follow\":false,\"link_id\"...  \n",
       "\n",
       "[227096 rows x 12 columns]"
      ]
     },
     "execution_count": 7,
     "metadata": {},
     "output_type": "execute_result"
    }
   ],
   "source": [
    "troll_bot"
   ]
  },
  {
   "cell_type": "code",
   "execution_count": 8,
   "metadata": {
    "scrolled": true
   },
   "outputs": [
    {
     "name": "stdout",
     "output_type": "stream",
     "text": [
      "Number of bot comments:  220534\n",
      "Number of troll comments: 6562\n",
      "Number of normal comments: 0\n"
     ]
    }
   ],
   "source": [
    "# Count num of bots and trolls\n",
    "bots = troll_bot['is_bot']\n",
    "trolls = troll_bot['is_troll']\n",
    "normies = troll_bot[(troll_bot.is_bot == False) & (troll_bot.is_troll == False)]\n",
    "print(\"Number of bot comments: \", bots.sum())\n",
    "print(\"Number of troll comments:\", trolls.sum())\n",
    "print(\"Number of normal comments:\", len(normies))"
   ]
  },
  {
   "cell_type": "code",
   "execution_count": 9,
   "metadata": {},
   "outputs": [
    {
     "name": "stdout",
     "output_type": "stream",
     "text": [
      "Number of bot authors:  343\n",
      "Number of troll authors: 153\n",
      "Number of total authors:  496\n"
     ]
    }
   ],
   "source": [
    "bot_authors = troll_bot[troll_bot['is_bot'] == True][['author']]\n",
    "troll_authors = troll_bot[troll_bot['is_troll'] == True][['author']]\n",
    "print(\"Number of bot authors: \", len(np.unique(bot_authors)))\n",
    "print(\"Number of troll authors:\", len(np.unique(troll_authors)))\n",
    "\n",
    "# Num of users\n",
    "users = troll_bot['author'].values\n",
    "num_of_users = np.unique(users)\n",
    "print(\"Number of total authors: \", len(num_of_users))"
   ]
  },
  {
   "cell_type": "code",
   "execution_count": 11,
   "metadata": {},
   "outputs": [],
   "source": [
    "from sklearn.model_selection import train_test_split\n",
    "from sklearn.tree import DecisionTreeClassifier"
   ]
  },
  {
   "cell_type": "code",
   "execution_count": 10,
   "metadata": {},
   "outputs": [],
   "source": [
    "input_X=troll_bot.drop([\"is_bot\",\"is_troll\",\"link_id\",\"author\",\"created_utc\",\"recent_comments\"],axis=1)\n",
    "#input_X=tweet[[\"no_follow\",\"gilded\",\"author_verified\",\"author_comment_karma\",\"created_utc\",\n",
    " #             \"score\",\"over_18\",\"is_submitter\",\"controversiality\",\"ups\"]]\n",
    "\n",
    "input_y=troll_bot[\"is_bot\"]"
   ]
  },
  {
   "cell_type": "code",
   "execution_count": 12,
   "metadata": {},
   "outputs": [],
   "source": [
    "X_train, X_test, y_train, y_test = train_test_split(input_X, input_y,test_size=0.33)"
   ]
  },
  {
   "cell_type": "code",
   "execution_count": 13,
   "metadata": {},
   "outputs": [
    {
     "data": {
      "text/plain": [
       "((152154, 6), (74942, 6), (152154,), (74942,))"
      ]
     },
     "execution_count": 13,
     "metadata": {},
     "output_type": "execute_result"
    }
   ],
   "source": [
    "X_train.shape,X_test.shape,y_train.shape,y_test.shape"
   ]
  },
  {
   "cell_type": "code",
   "execution_count": 14,
   "metadata": {
    "scrolled": false
   },
   "outputs": [
    {
     "data": {
      "text/plain": [
       "DecisionTreeClassifier(class_weight=None, criterion='gini', max_depth=3,\n",
       "                       max_features=None, max_leaf_nodes=None,\n",
       "                       min_impurity_decrease=0.0, min_impurity_split=None,\n",
       "                       min_samples_leaf=100, min_samples_split=2,\n",
       "                       min_weight_fraction_leaf=0.0, presort=False,\n",
       "                       random_state=None, splitter='best')"
      ]
     },
     "execution_count": 14,
     "metadata": {},
     "output_type": "execute_result"
    }
   ],
   "source": [
    "#clf=DecisionTreeClassifier(max_depth=3,min_samples_leaf=100)\n",
    "clf = DecisionTreeClassifier(max_depth=3, \n",
    "                             min_samples_leaf=100)\n",
    "\n",
    "clf"
   ]
  },
  {
   "cell_type": "code",
   "execution_count": 15,
   "metadata": {},
   "outputs": [
    {
     "data": {
      "text/plain": [
       "DecisionTreeClassifier(class_weight=None, criterion='gini', max_depth=3,\n",
       "                       max_features=None, max_leaf_nodes=None,\n",
       "                       min_impurity_decrease=0.0, min_impurity_split=None,\n",
       "                       min_samples_leaf=100, min_samples_split=2,\n",
       "                       min_weight_fraction_leaf=0.0, presort=False,\n",
       "                       random_state=None, splitter='best')"
      ]
     },
     "execution_count": 15,
     "metadata": {},
     "output_type": "execute_result"
    }
   ],
   "source": [
    "clf.fit(X_train,y_train)"
   ]
  },
  {
   "cell_type": "code",
   "execution_count": 16,
   "metadata": {},
   "outputs": [
    {
     "data": {
      "text/plain": [
       "0.9920080970595581"
      ]
     },
     "execution_count": 16,
     "metadata": {},
     "output_type": "execute_result"
    }
   ],
   "source": [
    "clf.score(X_train, y_train)"
   ]
  },
  {
   "cell_type": "code",
   "execution_count": 17,
   "metadata": {},
   "outputs": [
    {
     "data": {
      "text/plain": [
       "array([ True,  True,  True, ...,  True,  True,  True])"
      ]
     },
     "execution_count": 17,
     "metadata": {},
     "output_type": "execute_result"
    }
   ],
   "source": [
    "#pred_labels_tree=dt.predict(test_features)\n",
    "#pred_labels_tree\n",
    "\n",
    "y_pred=clf.predict(X_test)\n",
    "y_pred"
   ]
  },
  {
   "cell_type": "code",
   "execution_count": 18,
   "metadata": {},
   "outputs": [
    {
     "data": {
      "text/plain": [
       "0.9920605268073978"
      ]
     },
     "execution_count": 18,
     "metadata": {},
     "output_type": "execute_result"
    }
   ],
   "source": [
    "from sklearn.metrics import accuracy_score\n",
    "accuracy_score(y_test, y_pred)"
   ]
  },
  {
   "cell_type": "code",
   "execution_count": 19,
   "metadata": {},
   "outputs": [
    {
     "data": {
      "text/plain": [
       "True     220534\n",
       "False      6562\n",
       "Name: is_bot, dtype: int64"
      ]
     },
     "execution_count": 19,
     "metadata": {},
     "output_type": "execute_result"
    }
   ],
   "source": [
    "input_y.value_counts()"
   ]
  },
  {
   "cell_type": "code",
   "execution_count": 20,
   "metadata": {},
   "outputs": [
    {
     "data": {
      "text/plain": [
       "array([[ 1618,   572],\n",
       "       [   23, 72729]], dtype=int64)"
      ]
     },
     "execution_count": 20,
     "metadata": {},
     "output_type": "execute_result"
    }
   ],
   "source": [
    "from sklearn.metrics import confusion_matrix\n",
    "confusion_matrix(y_test, y_pred)"
   ]
  },
  {
   "cell_type": "code",
   "execution_count": 21,
   "metadata": {},
   "outputs": [
    {
     "data": {
      "text/plain": [
       "0.7388127853881279"
      ]
     },
     "execution_count": 21,
     "metadata": {},
     "output_type": "execute_result"
    }
   ],
   "source": [
    "Recall=1618/(1618+572)\n",
    "Recall"
   ]
  },
  {
   "cell_type": "code",
   "execution_count": 22,
   "metadata": {},
   "outputs": [
    {
     "data": {
      "text/plain": [
       "0.9859841560024375"
      ]
     },
     "execution_count": 22,
     "metadata": {},
     "output_type": "execute_result"
    }
   ],
   "source": [
    "Precision=1618/(1618+23)\n",
    "Precision"
   ]
  },
  {
   "cell_type": "code",
   "execution_count": 23,
   "metadata": {},
   "outputs": [
    {
     "data": {
      "text/plain": [
       "'              precision    recall  f1-score   support\\n\\n       False       0.99      0.74      0.84      2190\\n        True       0.99      1.00      1.00     72752\\n\\n    accuracy                           0.99     74942\\n   macro avg       0.99      0.87      0.92     74942\\nweighted avg       0.99      0.99      0.99     74942\\n'"
      ]
     },
     "execution_count": 23,
     "metadata": {},
     "output_type": "execute_result"
    }
   ],
   "source": [
    "from sklearn.metrics import classification_report\n",
    "class_rep_tree = classification_report(y_test, y_pred)\n",
    "class_rep_tree"
   ]
  },
  {
   "cell_type": "code",
   "execution_count": 65,
   "metadata": {},
   "outputs": [
    {
     "data": {
      "text/plain": [
       "[Text(125.55000000000001, 190.26, 'X[1] <= 0.5\\nentropy = 0.056\\nsamples = 152154\\nvalue = [4372, 147782]'),\n",
       " Text(83.7, 135.9, 'entropy = 0.0\\nsamples = 135317\\nvalue = [0, 135317]'),\n",
       " Text(167.4, 135.9, 'X[2] <= 4932.0\\nentropy = 0.384\\nsamples = 16837\\nvalue = [4372, 12465]'),\n",
       " Text(83.7, 81.53999999999999, 'X[3] <= 350.0\\nentropy = 0.414\\nsamples = 5992\\nvalue = [4237, 1755]'),\n",
       " Text(41.85, 27.180000000000007, 'entropy = 0.469\\nsamples = 2720\\nvalue = [1023, 1697]'),\n",
       " Text(125.55000000000001, 27.180000000000007, 'entropy = 0.035\\nsamples = 3272\\nvalue = [3214, 58]'),\n",
       " Text(251.10000000000002, 81.53999999999999, 'X[3] <= 622.0\\nentropy = 0.025\\nsamples = 10845\\nvalue = [135, 10710]'),\n",
       " Text(209.25, 27.180000000000007, 'entropy = 0.0\\nsamples = 7898\\nvalue = [0, 7898]'),\n",
       " Text(292.95, 27.180000000000007, 'entropy = 0.087\\nsamples = 2947\\nvalue = [135, 2812]')]"
      ]
     },
     "execution_count": 65,
     "metadata": {},
     "output_type": "execute_result"
    },
    {
     "data": {
      "image/png": "[encoded data removed]",
      "text/plain": [
       "<Figure size 432x288 with 1 Axes>"
      ]
     },
     "metadata": {
      "needs_background": "light"
     },
     "output_type": "display_data"
    }
   ],
   "source": [
    "import matplotlib.pyplot as plt\n",
    "from sklearn import tree\n",
    "\n",
    "tree.plot_tree(clf)"
   ]
  },
  {
   "cell_type": "code",
   "execution_count": 27,
   "metadata": {},
   "outputs": [
    {
     "name": "stderr",
     "output_type": "stream",
     "text": [
      "C:\\Users\\SANDHYA\\Anaconda3\\lib\\site-packages\\sklearn\\linear_model\\logistic.py:432: FutureWarning: Default solver will be changed to 'lbfgs' in 0.22. Specify a solver to silence this warning.\n",
      "  FutureWarning)\n"
     ]
    },
    {
     "name": "stdout",
     "output_type": "stream",
     "text": [
      "Decision Tree: \n",
      "               precision    recall  f1-score   support\n",
      "\n",
      "       False       0.99      0.74      0.84      2190\n",
      "        True       0.99      1.00      1.00     72752\n",
      "\n",
      "    accuracy                           0.99     74942\n",
      "   macro avg       0.99      0.87      0.92     74942\n",
      "weighted avg       0.99      0.99      0.99     74942\n",
      "\n",
      "Logistic Regression: \n",
      "               precision    recall  f1-score   support\n",
      "\n",
      "       False       0.00      0.00      0.00      2190\n",
      "        True       0.97      1.00      0.99     72752\n",
      "\n",
      "    accuracy                           0.97     74942\n",
      "   macro avg       0.49      0.50      0.49     74942\n",
      "weighted avg       0.94      0.97      0.96     74942\n",
      "\n"
     ]
    },
    {
     "name": "stderr",
     "output_type": "stream",
     "text": [
      "C:\\Users\\SANDHYA\\Anaconda3\\lib\\site-packages\\sklearn\\metrics\\classification.py:1437: UndefinedMetricWarning: Precision and F-score are ill-defined and being set to 0.0 in labels with no predicted samples.\n",
      "  'precision', 'predicted', average, warn_for)\n"
     ]
    }
   ],
   "source": [
    "#Compare our decision tree to a logistic regression\n",
    "\n",
    "# Import LogisticRegression\n",
    "from sklearn.linear_model import LogisticRegression\n",
    "\n",
    "# Train our logistic regression and predict labels for the test set\n",
    "logreg = LogisticRegression()\n",
    "logreg.fit(X_train,y_train)\n",
    "y_pred_logit = logreg.predict(X_test)\n",
    "\n",
    "# Create the classification report for both models\n",
    "from sklearn.metrics import classification_report\n",
    "class_rep_tree = classification_report(y_test, y_pred)\n",
    "class_rep_log = classification_report(y_test, y_pred_logit)\n",
    "\n",
    "print(\"Decision Tree: \\n\", class_rep_tree)\n",
    "print(\"Logistic Regression: \\n\", class_rep_log)"
   ]
  },
  {
   "cell_type": "code",
   "execution_count": 30,
   "metadata": {},
   "outputs": [
    {
     "name": "stderr",
     "output_type": "stream",
     "text": [
      "C:\\Users\\SANDHYA\\Anaconda3\\lib\\site-packages\\sklearn\\linear_model\\logistic.py:432: FutureWarning: Default solver will be changed to 'lbfgs' in 0.22. Specify a solver to silence this warning.\n",
      "  FutureWarning)\n",
      "C:\\Users\\SANDHYA\\Anaconda3\\lib\\site-packages\\sklearn\\linear_model\\logistic.py:432: FutureWarning: Default solver will be changed to 'lbfgs' in 0.22. Specify a solver to silence this warning.\n",
      "  FutureWarning)\n",
      "C:\\Users\\SANDHYA\\Anaconda3\\lib\\site-packages\\sklearn\\linear_model\\logistic.py:432: FutureWarning: Default solver will be changed to 'lbfgs' in 0.22. Specify a solver to silence this warning.\n",
      "  FutureWarning)\n",
      "C:\\Users\\SANDHYA\\Anaconda3\\lib\\site-packages\\sklearn\\linear_model\\logistic.py:432: FutureWarning: Default solver will be changed to 'lbfgs' in 0.22. Specify a solver to silence this warning.\n",
      "  FutureWarning)\n",
      "C:\\Users\\SANDHYA\\Anaconda3\\lib\\site-packages\\sklearn\\linear_model\\logistic.py:432: FutureWarning: Default solver will be changed to 'lbfgs' in 0.22. Specify a solver to silence this warning.\n",
      "  FutureWarning)\n",
      "C:\\Users\\SANDHYA\\Anaconda3\\lib\\site-packages\\sklearn\\linear_model\\logistic.py:432: FutureWarning: Default solver will be changed to 'lbfgs' in 0.22. Specify a solver to silence this warning.\n",
      "  FutureWarning)\n",
      "C:\\Users\\SANDHYA\\Anaconda3\\lib\\site-packages\\sklearn\\linear_model\\logistic.py:432: FutureWarning: Default solver will be changed to 'lbfgs' in 0.22. Specify a solver to silence this warning.\n",
      "  FutureWarning)\n",
      "C:\\Users\\SANDHYA\\Anaconda3\\lib\\site-packages\\sklearn\\linear_model\\logistic.py:432: FutureWarning: Default solver will be changed to 'lbfgs' in 0.22. Specify a solver to silence this warning.\n",
      "  FutureWarning)\n",
      "C:\\Users\\SANDHYA\\Anaconda3\\lib\\site-packages\\sklearn\\linear_model\\logistic.py:432: FutureWarning: Default solver will be changed to 'lbfgs' in 0.22. Specify a solver to silence this warning.\n",
      "  FutureWarning)\n",
      "C:\\Users\\SANDHYA\\Anaconda3\\lib\\site-packages\\sklearn\\linear_model\\logistic.py:432: FutureWarning: Default solver will be changed to 'lbfgs' in 0.22. Specify a solver to silence this warning.\n",
      "  FutureWarning)\n"
     ]
    },
    {
     "name": "stdout",
     "output_type": "stream",
     "text": [
      "Decision Tree: 0.9633255087527018 Logistic Regression: 0.9375183745573736\n"
     ]
    }
   ],
   "source": [
    "from sklearn.model_selection import cross_val_score,StratifiedKFold,cross_val_predict\n",
    "\n",
    "# Set up our K-fold cross-validation\n",
    "kf = StratifiedKFold(n_splits=10,)\n",
    "\n",
    "decision_tree = DecisionTreeClassifier()\n",
    "logistic_reg = LogisticRegression(max_iter=1000)\n",
    "\n",
    "# Train our models using KFold cv\n",
    "dtree_score = cross_val_score(decision_tree,input_X,input_y, cv = kf,scoring='roc_auc')\n",
    "lr_score = cross_val_score(logistic_reg,input_X,input_y, cv = kf,scoring='roc_auc')\n",
    "\n",
    "# Print the mean of each array of scores\n",
    "print(\"Decision Tree:\", np.mean(dtree_score),\"Logistic Regression:\", np.mean(lr_score))"
   ]
  },
  {
   "cell_type": "code",
   "execution_count": 32,
   "metadata": {},
   "outputs": [
    {
     "data": {
      "text/plain": [
       "((220534, 12), (6562, 12))"
      ]
     },
     "execution_count": 32,
     "metadata": {},
     "output_type": "execute_result"
    }
   ],
   "source": [
    "#Balance the dataset\n",
    "\n",
    "true_only =troll_bot.loc[troll_bot['is_bot'] == 1]\n",
    "false_only =troll_bot.loc[troll_bot['is_bot'] == 0]\n",
    "true_only.shape, false_only.shape"
   ]
  },
  {
   "cell_type": "code",
   "execution_count": 33,
   "metadata": {},
   "outputs": [
    {
     "data": {
      "text/plain": [
       "((6562, 12), (6562, 12))"
      ]
     },
     "execution_count": 33,
     "metadata": {},
     "output_type": "execute_result"
    }
   ],
   "source": [
    "true_only = true_only.sample(n= false_only.shape[0])\n",
    "false_only.shape, true_only.shape"
   ]
  },
  {
   "cell_type": "code",
   "execution_count": 34,
   "metadata": {},
   "outputs": [
    {
     "data": {
      "text/html": [
       "<div>\n",
       "<style scoped>\n",
       "    .dataframe tbody tr th:only-of-type {\n",
       "        vertical-align: middle;\n",
       "    }\n",
       "\n",
       "    .dataframe tbody tr th {\n",
       "        vertical-align: top;\n",
       "    }\n",
       "\n",
       "    .dataframe thead th {\n",
       "        text-align: right;\n",
       "    }\n",
       "</style>\n",
       "<table border=\"1\" class=\"dataframe\">\n",
       "  <thead>\n",
       "    <tr style=\"text-align: right;\">\n",
       "      <th></th>\n",
       "      <th>no_follow</th>\n",
       "      <th>link_id</th>\n",
       "      <th>author</th>\n",
       "      <th>author_verified</th>\n",
       "      <th>author_comment_karma</th>\n",
       "      <th>author_link_karma</th>\n",
       "      <th>created_utc</th>\n",
       "      <th>over_18</th>\n",
       "      <th>is_submitter</th>\n",
       "      <th>is_bot</th>\n",
       "      <th>is_troll</th>\n",
       "      <th>recent_comments</th>\n",
       "    </tr>\n",
       "  </thead>\n",
       "  <tbody>\n",
       "    <tr>\n",
       "      <th>51511</th>\n",
       "      <td>True</td>\n",
       "      <td>t3_3w61cl</td>\n",
       "      <td>PleaseRespectTables</td>\n",
       "      <td>False</td>\n",
       "      <td>171055</td>\n",
       "      <td>29</td>\n",
       "      <td>2015-12-10 11:24:12</td>\n",
       "      <td>False</td>\n",
       "      <td>False</td>\n",
       "      <td>True</td>\n",
       "      <td>False</td>\n",
       "      <td>[{\"banned_by\":null,\"no_follow\":true,\"link_id\":...</td>\n",
       "    </tr>\n",
       "    <tr>\n",
       "      <th>38630</th>\n",
       "      <td>True</td>\n",
       "      <td>t3_1qxfz3</td>\n",
       "      <td>IsItDownBot</td>\n",
       "      <td>False</td>\n",
       "      <td>236</td>\n",
       "      <td>1</td>\n",
       "      <td>2014-03-13 18:04:37</td>\n",
       "      <td>False</td>\n",
       "      <td>False</td>\n",
       "      <td>True</td>\n",
       "      <td>False</td>\n",
       "      <td>[{\"banned_by\":null,\"no_follow\":true,\"link_id\":...</td>\n",
       "    </tr>\n",
       "    <tr>\n",
       "      <th>208053</th>\n",
       "      <td>True</td>\n",
       "      <td>t3_1o40ik</td>\n",
       "      <td>imirror_bot</td>\n",
       "      <td>False</td>\n",
       "      <td>5507</td>\n",
       "      <td>1</td>\n",
       "      <td>2013-10-10 03:49:27</td>\n",
       "      <td>False</td>\n",
       "      <td>False</td>\n",
       "      <td>True</td>\n",
       "      <td>False</td>\n",
       "      <td>[{\"banned_by\":null,\"no_follow\":true,\"link_id\":...</td>\n",
       "    </tr>\n",
       "    <tr>\n",
       "      <th>173000</th>\n",
       "      <td>False</td>\n",
       "      <td>t3_5dkp1b</td>\n",
       "      <td>xkcd_bot</td>\n",
       "      <td>False</td>\n",
       "      <td>55574</td>\n",
       "      <td>126</td>\n",
       "      <td>2016-11-18 05:05:38</td>\n",
       "      <td>False</td>\n",
       "      <td>False</td>\n",
       "      <td>True</td>\n",
       "      <td>False</td>\n",
       "      <td>[{\"banned_by\":null,\"no_follow\":false,\"link_id\"...</td>\n",
       "    </tr>\n",
       "    <tr>\n",
       "      <th>203312</th>\n",
       "      <td>True</td>\n",
       "      <td>t3_ajgv2g</td>\n",
       "      <td>qznc_bot</td>\n",
       "      <td>False</td>\n",
       "      <td>2433</td>\n",
       "      <td>159319</td>\n",
       "      <td>2019-01-24 20:46:16</td>\n",
       "      <td>False</td>\n",
       "      <td>True</td>\n",
       "      <td>True</td>\n",
       "      <td>False</td>\n",
       "      <td>[{\"banned_by\":null,\"no_follow\":true,\"link_id\":...</td>\n",
       "    </tr>\n",
       "  </tbody>\n",
       "</table>\n",
       "</div>"
      ],
      "text/plain": [
       "        no_follow    link_id               author  author_verified  \\\n",
       "51511        True  t3_3w61cl  PleaseRespectTables            False   \n",
       "38630        True  t3_1qxfz3          IsItDownBot            False   \n",
       "208053       True  t3_1o40ik          imirror_bot            False   \n",
       "173000      False  t3_5dkp1b             xkcd_bot            False   \n",
       "203312       True  t3_ajgv2g             qznc_bot            False   \n",
       "\n",
       "        author_comment_karma  author_link_karma         created_utc  over_18  \\\n",
       "51511                 171055                 29 2015-12-10 11:24:12    False   \n",
       "38630                    236                  1 2014-03-13 18:04:37    False   \n",
       "208053                  5507                  1 2013-10-10 03:49:27    False   \n",
       "173000                 55574                126 2016-11-18 05:05:38    False   \n",
       "203312                  2433             159319 2019-01-24 20:46:16    False   \n",
       "\n",
       "        is_submitter  is_bot  is_troll  \\\n",
       "51511          False    True     False   \n",
       "38630          False    True     False   \n",
       "208053         False    True     False   \n",
       "173000         False    True     False   \n",
       "203312          True    True     False   \n",
       "\n",
       "                                          recent_comments  \n",
       "51511   [{\"banned_by\":null,\"no_follow\":true,\"link_id\":...  \n",
       "38630   [{\"banned_by\":null,\"no_follow\":true,\"link_id\":...  \n",
       "208053  [{\"banned_by\":null,\"no_follow\":true,\"link_id\":...  \n",
       "173000  [{\"banned_by\":null,\"no_follow\":false,\"link_id\"...  \n",
       "203312  [{\"banned_by\":null,\"no_follow\":true,\"link_id\":...  "
      ]
     },
     "execution_count": 34,
     "metadata": {},
     "output_type": "execute_result"
    }
   ],
   "source": [
    "tf_bal = pd.concat([true_only,false_only])\n",
    "tf_bal.head()"
   ]
  },
  {
   "cell_type": "code",
   "execution_count": 36,
   "metadata": {},
   "outputs": [],
   "source": [
    "feature = tf_bal.drop(['is_bot','created_utc','recent_comments'], axis = 1)"
   ]
  },
  {
   "cell_type": "code",
   "execution_count": 40,
   "metadata": {},
   "outputs": [],
   "source": [
    "feat=['no_follow','link_id','author_verified','author','no_follow','over_18','is_submitter']"
   ]
  },
  {
   "cell_type": "code",
   "execution_count": 41,
   "metadata": {},
   "outputs": [
    {
     "data": {
      "text/html": [
       "<div>\n",
       "<style scoped>\n",
       "    .dataframe tbody tr th:only-of-type {\n",
       "        vertical-align: middle;\n",
       "    }\n",
       "\n",
       "    .dataframe tbody tr th {\n",
       "        vertical-align: top;\n",
       "    }\n",
       "\n",
       "    .dataframe thead th {\n",
       "        text-align: right;\n",
       "    }\n",
       "</style>\n",
       "<table border=\"1\" class=\"dataframe\">\n",
       "  <thead>\n",
       "    <tr style=\"text-align: right;\">\n",
       "      <th></th>\n",
       "      <th>no_follow</th>\n",
       "      <th>link_id</th>\n",
       "      <th>author</th>\n",
       "      <th>author_verified</th>\n",
       "      <th>author_comment_karma</th>\n",
       "      <th>author_link_karma</th>\n",
       "      <th>over_18</th>\n",
       "      <th>is_submitter</th>\n",
       "      <th>is_troll</th>\n",
       "    </tr>\n",
       "  </thead>\n",
       "  <tbody>\n",
       "    <tr>\n",
       "      <th>51511</th>\n",
       "      <td>1</td>\n",
       "      <td>5088</td>\n",
       "      <td>174</td>\n",
       "      <td>0</td>\n",
       "      <td>171055</td>\n",
       "      <td>29</td>\n",
       "      <td>0</td>\n",
       "      <td>0</td>\n",
       "      <td>False</td>\n",
       "    </tr>\n",
       "    <tr>\n",
       "      <th>38630</th>\n",
       "      <td>1</td>\n",
       "      <td>562</td>\n",
       "      <td>105</td>\n",
       "      <td>0</td>\n",
       "      <td>236</td>\n",
       "      <td>1</td>\n",
       "      <td>0</td>\n",
       "      <td>0</td>\n",
       "      <td>False</td>\n",
       "    </tr>\n",
       "    <tr>\n",
       "      <th>208053</th>\n",
       "      <td>1</td>\n",
       "      <td>335</td>\n",
       "      <td>339</td>\n",
       "      <td>0</td>\n",
       "      <td>5507</td>\n",
       "      <td>1</td>\n",
       "      <td>0</td>\n",
       "      <td>0</td>\n",
       "      <td>False</td>\n",
       "    </tr>\n",
       "    <tr>\n",
       "      <th>173000</th>\n",
       "      <td>0</td>\n",
       "      <td>7721</td>\n",
       "      <td>429</td>\n",
       "      <td>0</td>\n",
       "      <td>55574</td>\n",
       "      <td>126</td>\n",
       "      <td>0</td>\n",
       "      <td>0</td>\n",
       "      <td>False</td>\n",
       "    </tr>\n",
       "    <tr>\n",
       "      <th>203312</th>\n",
       "      <td>1</td>\n",
       "      <td>10710</td>\n",
       "      <td>375</td>\n",
       "      <td>0</td>\n",
       "      <td>2433</td>\n",
       "      <td>159319</td>\n",
       "      <td>0</td>\n",
       "      <td>1</td>\n",
       "      <td>False</td>\n",
       "    </tr>\n",
       "  </tbody>\n",
       "</table>\n",
       "</div>"
      ],
      "text/plain": [
       "        no_follow  link_id  author  author_verified  author_comment_karma  \\\n",
       "51511           1     5088     174                0                171055   \n",
       "38630           1      562     105                0                   236   \n",
       "208053          1      335     339                0                  5507   \n",
       "173000          0     7721     429                0                 55574   \n",
       "203312          1    10710     375                0                  2433   \n",
       "\n",
       "        author_link_karma  over_18  is_submitter  is_troll  \n",
       "51511                  29        0             0     False  \n",
       "38630                   1        0             0     False  \n",
       "208053                  1        0             0     False  \n",
       "173000                126        0             0     False  \n",
       "203312             159319        0             1     False  "
      ]
     },
     "execution_count": 41,
     "metadata": {},
     "output_type": "execute_result"
    }
   ],
   "source": [
    "for i in feat:\n",
    "  feature[i] = feature[i].astype('category')\n",
    "  feature[i] = feature[i].cat.codes\n",
    "feature.head()"
   ]
  },
  {
   "cell_type": "code",
   "execution_count": 42,
   "metadata": {},
   "outputs": [],
   "source": [
    "from sklearn.preprocessing import StandardScaler\n",
    "\n",
    "# Scale the features and set the values to a variable\n",
    "scaler = StandardScaler()\n",
    "scaled_train_feat = scaler.fit_transform(feature)"
   ]
  },
  {
   "cell_type": "code",
   "execution_count": 43,
   "metadata": {},
   "outputs": [
    {
     "data": {
      "text/plain": [
       "(7.70001271439033e-18, 1.0)"
      ]
     },
     "execution_count": 43,
     "metadata": {},
     "output_type": "execute_result"
    }
   ],
   "source": [
    "np.mean(scaled_train_feat),np.std(scaled_train_feat)"
   ]
  },
  {
   "cell_type": "code",
   "execution_count": 44,
   "metadata": {},
   "outputs": [],
   "source": [
    "label=tf_bal.is_bot.astype('int64')"
   ]
  },
  {
   "cell_type": "code",
   "execution_count": 67,
   "metadata": {},
   "outputs": [],
   "source": [
    "train_feature, test_feature, train_label, test_label = train_test_split(scaled_train_feat, label,test_size=0.25)\n",
    "d_tree1 = DecisionTreeClassifier()\n",
    "d_tree1.fit(train_feature, train_label)\n",
    "pred_label_tree1 = d_tree1.predict(test_feature)"
   ]
  },
  {
   "cell_type": "code",
   "execution_count": 68,
   "metadata": {},
   "outputs": [
    {
     "data": {
      "text/plain": [
       "'              precision    recall  f1-score   support\\n\\n           0       1.00      1.00      1.00      1612\\n           1       1.00      1.00      1.00      1669\\n\\n    accuracy                           1.00      3281\\n   macro avg       1.00      1.00      1.00      3281\\nweighted avg       1.00      1.00      1.00      3281\\n'"
      ]
     },
     "execution_count": 68,
     "metadata": {},
     "output_type": "execute_result"
    }
   ],
   "source": [
    "from sklearn.metrics import classification_report\n",
    "class_rep_tree1 = classification_report(test_label, pred_label_tree1)\n",
    "class_rep_tree1"
   ]
  },
  {
   "cell_type": "code",
   "execution_count": 69,
   "metadata": {},
   "outputs": [
    {
     "data": {
      "text/plain": [
       "[Text(167.4, 163.07999999999998, 'X[8] <= 0.0\\nentropy = 0.5\\nsamples = 9843\\nvalue = [4950, 4893]'),\n",
       " Text(83.7, 54.360000000000014, 'entropy = 0.0\\nsamples = 4893\\nvalue = [0, 4893]'),\n",
       " Text(251.10000000000002, 54.360000000000014, 'entropy = 0.0\\nsamples = 4950\\nvalue = [4950, 0]')]"
      ]
     },
     "execution_count": 69,
     "metadata": {},
     "output_type": "execute_result"
    },
    {
     "data": {
      "image/png": "[encoded data removed]",
      "text/plain": [
       "<Figure size 432x288 with 1 Axes>"
      ]
     },
     "metadata": {
      "needs_background": "light"
     },
     "output_type": "display_data"
    }
   ],
   "source": [
    "tree.plot_tree(d_tree1)"
   ]
  },
  {
   "cell_type": "code",
   "execution_count": 49,
   "metadata": {
    "scrolled": false
   },
   "outputs": [
    {
     "name": "stderr",
     "output_type": "stream",
     "text": [
      "C:\\Users\\SANDHYA\\Anaconda3\\lib\\site-packages\\sklearn\\linear_model\\logistic.py:432: FutureWarning: Default solver will be changed to 'lbfgs' in 0.22. Specify a solver to silence this warning.\n",
      "  FutureWarning)\n"
     ]
    }
   ],
   "source": [
    "lr1 = LogisticRegression(random_state = 10)\n",
    "lr1.fit(train_feature, train_label)\n",
    "pred_label_logit1 = lr1.predict(test_feature)"
   ]
  },
  {
   "cell_type": "code",
   "execution_count": 58,
   "metadata": {},
   "outputs": [
    {
     "data": {
      "text/plain": [
       "'              precision    recall  f1-score   support\\n\\n           0       1.00      1.00      1.00      1969\\n           1       1.00      1.00      1.00      1969\\n\\n    accuracy                           1.00      3938\\n   macro avg       1.00      1.00      1.00      3938\\nweighted avg       1.00      1.00      1.00      3938\\n'"
      ]
     },
     "execution_count": 58,
     "metadata": {},
     "output_type": "execute_result"
    }
   ],
   "source": [
    "class_rep_log1 = classification_report(test_label, pred_label_logit1)\n",
    "class_rep_log1"
   ]
  },
  {
   "cell_type": "code",
   "execution_count": 59,
   "metadata": {
    "scrolled": true
   },
   "outputs": [
    {
     "name": "stderr",
     "output_type": "stream",
     "text": [
      "C:\\Users\\SANDHYA\\Anaconda3\\lib\\site-packages\\sklearn\\linear_model\\logistic.py:432: FutureWarning: Default solver will be changed to 'lbfgs' in 0.22. Specify a solver to silence this warning.\n",
      "  FutureWarning)\n",
      "C:\\Users\\SANDHYA\\Anaconda3\\lib\\site-packages\\sklearn\\linear_model\\logistic.py:432: FutureWarning: Default solver will be changed to 'lbfgs' in 0.22. Specify a solver to silence this warning.\n",
      "  FutureWarning)\n",
      "C:\\Users\\SANDHYA\\Anaconda3\\lib\\site-packages\\sklearn\\linear_model\\logistic.py:432: FutureWarning: Default solver will be changed to 'lbfgs' in 0.22. Specify a solver to silence this warning.\n",
      "  FutureWarning)\n",
      "C:\\Users\\SANDHYA\\Anaconda3\\lib\\site-packages\\sklearn\\linear_model\\logistic.py:432: FutureWarning: Default solver will be changed to 'lbfgs' in 0.22. Specify a solver to silence this warning.\n",
      "  FutureWarning)\n",
      "C:\\Users\\SANDHYA\\Anaconda3\\lib\\site-packages\\sklearn\\linear_model\\logistic.py:432: FutureWarning: Default solver will be changed to 'lbfgs' in 0.22. Specify a solver to silence this warning.\n",
      "  FutureWarning)\n",
      "C:\\Users\\SANDHYA\\Anaconda3\\lib\\site-packages\\sklearn\\linear_model\\logistic.py:432: FutureWarning: Default solver will be changed to 'lbfgs' in 0.22. Specify a solver to silence this warning.\n",
      "  FutureWarning)\n",
      "C:\\Users\\SANDHYA\\Anaconda3\\lib\\site-packages\\sklearn\\linear_model\\logistic.py:432: FutureWarning: Default solver will be changed to 'lbfgs' in 0.22. Specify a solver to silence this warning.\n",
      "  FutureWarning)\n",
      "C:\\Users\\SANDHYA\\Anaconda3\\lib\\site-packages\\sklearn\\linear_model\\logistic.py:432: FutureWarning: Default solver will be changed to 'lbfgs' in 0.22. Specify a solver to silence this warning.\n",
      "  FutureWarning)\n"
     ]
    },
    {
     "name": "stdout",
     "output_type": "stream",
     "text": [
      "Decision Tree: 1.0 Logistic Regression: 0.8621881877480346\n"
     ]
    },
    {
     "name": "stderr",
     "output_type": "stream",
     "text": [
      "C:\\Users\\SANDHYA\\Anaconda3\\lib\\site-packages\\sklearn\\linear_model\\logistic.py:432: FutureWarning: Default solver will be changed to 'lbfgs' in 0.22. Specify a solver to silence this warning.\n",
      "  FutureWarning)\n",
      "C:\\Users\\SANDHYA\\Anaconda3\\lib\\site-packages\\sklearn\\linear_model\\logistic.py:432: FutureWarning: Default solver will be changed to 'lbfgs' in 0.22. Specify a solver to silence this warning.\n",
      "  FutureWarning)\n"
     ]
    }
   ],
   "source": [
    "dtree_score1 = cross_val_score(decision_tree,feature, label, cv = kf,scoring='roc_auc')\n",
    "lr_score1 = cross_val_score(logistic_reg,feature, label, cv = kf,scoring='roc_auc')\n",
    "\n",
    "# Print the mean of each array of scores\n",
    "print(\"Decision Tree:\", np.mean(dtree_score1),\"Logistic Regression:\", np.mean(lr_score1))"
   ]
  },
  {
   "cell_type": "code",
   "execution_count": 70,
   "metadata": {},
   "outputs": [
    {
     "data": {
      "text/plain": [
       "RandomForestClassifier(bootstrap=True, class_weight=None, criterion='gini',\n",
       "                       max_depth=None, max_features='auto', max_leaf_nodes=None,\n",
       "                       min_impurity_decrease=0.0, min_impurity_split=None,\n",
       "                       min_samples_leaf=1, min_samples_split=2,\n",
       "                       min_weight_fraction_leaf=0.0, n_estimators=50,\n",
       "                       n_jobs=None, oob_score=False, random_state=None,\n",
       "                       verbose=0, warm_start=False)"
      ]
     },
     "execution_count": 70,
     "metadata": {},
     "output_type": "execute_result"
    }
   ],
   "source": [
    "from sklearn.ensemble import RandomForestClassifier\n",
    "classifier=RandomForestClassifier(n_estimators=50)\n",
    "classifier.fit(X_train,y_train)"
   ]
  },
  {
   "cell_type": "code",
   "execution_count": 71,
   "metadata": {},
   "outputs": [],
   "source": [
    "y_pred=classifier.predict(X_test)"
   ]
  },
  {
   "cell_type": "code",
   "execution_count": 72,
   "metadata": {},
   "outputs": [
    {
     "name": "stdout",
     "output_type": "stream",
     "text": [
      "Confusion matrix:\n",
      "[[ 2189     1]\n",
      " [    0 72752]]\n",
      "Classification report:\n",
      "              precision    recall  f1-score   support\n",
      "\n",
      "       False       1.00      1.00      1.00      2190\n",
      "        True       1.00      1.00      1.00     72752\n",
      "\n",
      "    accuracy                           1.00     74942\n",
      "   macro avg       1.00      1.00      1.00     74942\n",
      "weighted avg       1.00      1.00      1.00     74942\n",
      "\n",
      "Accuracy Score:\n",
      "0.9999866563475754\n"
     ]
    }
   ],
   "source": [
    "#Results\n",
    "\n",
    "from sklearn.metrics import classification_report,confusion_matrix,accuracy_score\n",
    "result=confusion_matrix(y_test,y_pred)\n",
    "print(\"Confusion matrix:\")\n",
    "print(result)\n",
    "\n",
    "result1=classification_report(y_test,y_pred)\n",
    "print(\"Classification report:\")\n",
    "print(result1)\n",
    "\n",
    "result2=accuracy_score(y_test,y_pred)\n",
    "print(\"Accuracy Score:\")\n",
    "print(result2)"
   ]
  },
  {
   "cell_type": "code",
   "execution_count": null,
   "metadata": {},
   "outputs": [],
   "source": [
    "#Hence, logistic regression model has 86.2% accuracy for a balanced dataset."
   ]
  }
 ],
 "metadata": {
  "kernelspec": {
   "display_name": "Python 3",
   "language": "python",
   "name": "python3"
  },
  "language_info": {
   "codemirror_mode": {
    "name": "ipython",
    "version": 3
   },
   "file_extension": ".py",
   "mimetype": "text/x-python",
   "name": "python",
   "nbconvert_exporter": "python",
   "pygments_lexer": "ipython3",
   "version": "3.8.5"
  }
 },
 "nbformat": 4,
 "nbformat_minor": 2
}
